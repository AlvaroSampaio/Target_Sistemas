{
 "cells": [
  {
   "cell_type": "markdown",
   "metadata": {},
   "source": [
    "# Questões"
   ]
  },
  {
   "cell_type": "markdown",
   "metadata": {},
   "source": [
    "### 1) Observe o trecho de código abaixo:\n",
    "int INDICE = 13, SOMA = 0, K = 0;\n",
    "Enquanto K < INDICE faça { K = K + 1; SOMA = SOMA + K; }\n",
    "Imprimir(SOMA);\n",
    "\n",
    "Ao final do processamento, qual será o valor da variável SOMA?\n",
    "\n",
    "Resposta: 91"
   ]
  },
  {
   "cell_type": "code",
   "execution_count": 59,
   "metadata": {},
   "outputs": [
    {
     "name": "stdout",
     "output_type": "stream",
     "text": [
      "Ao final do processamento a variável SOMA será igual a 91\n"
     ]
    }
   ],
   "source": [
    "INDICE = 13\n",
    "SOMA = 0\n",
    "K = 0\n",
    "\n",
    "while K < INDICE:\n",
    "    K = K + 1\n",
    "    SOMA = SOMA + K\n",
    "\n",
    "print(f'Ao final do processamento a variável SOMA será igual a {SOMA}')"
   ]
  },
  {
   "cell_type": "markdown",
   "metadata": {},
   "source": [
    "### 2) Dado a sequência de Fibonacci, onde se inicia por 0 e 1 e o próximo valor sempre será a soma dos 2 valores anteriores (exemplo: 0, 1, 1, 2, 3, 5, 8, 13, 21, 34...), escreva um programa na linguagem que desejar onde, informado um número, ele calcule a sequência de Fibonacci e retorne uma mensagem avisando se o número informado pertence ou não a sequência."
   ]
  },
  {
   "cell_type": "code",
   "execution_count": 60,
   "metadata": {},
   "outputs": [],
   "source": [
    "def fibonacci(n):\n",
    "    \"\"\"\n",
    "    Gera a sequência de Fibonacci até o n-ésimo termo.\n",
    "\n",
    "    A sequência de Fibonacci é uma série de números onde cada número é a soma dos dois números anteriores,\n",
    "    começando com 0 e 1. Esta função retorna os primeiros n números da sequência.\n",
    "\n",
    "    Parâmetros:\n",
    "    n (int): O número de termos da sequência de Fibonacci a serem gerados.\n",
    "\n",
    "    Retorna:\n",
    "    list: Uma lista contendo os primeiros n termos da sequência de Fibonacci.\n",
    "    \"\"\"\n",
    "    sequence = [0, 1]  # Os primeiros dois números da sequência\n",
    "    while len(sequence) < n:\n",
    "        next_value = sequence[-1] + sequence[-2]  # Soma dos dois últimos números\n",
    "        sequence.append(next_value)  # Adiciona o próximo número à sequência\n",
    "    return sequence[:n]  # Retorna os primeiros n números da sequência"
   ]
  },
  {
   "cell_type": "code",
   "execution_count": 61,
   "metadata": {},
   "outputs": [
    {
     "data": {
      "text/plain": [
       "[0, 1, 1, 2, 3, 5, 8, 13, 21, 34]"
      ]
     },
     "execution_count": 61,
     "metadata": {},
     "output_type": "execute_result"
    }
   ],
   "source": [
    "fibonacci(10)"
   ]
  },
  {
   "cell_type": "code",
   "execution_count": 62,
   "metadata": {},
   "outputs": [
    {
     "name": "stdout",
     "output_type": "stream",
     "text": [
      "6 não pertence à sequência de Fibonacci.\n"
     ]
    }
   ],
   "source": [
    "try:\n",
    "    number = int(input('insira um número inteiro: '))\n",
    "    fibonacci(10*number)\n",
    "    if number in fibonacci(10*number):\n",
    "        print(f'{number} pertence à sequência de Fibonacci.')\n",
    "    else:\n",
    "        print(f'{number} não pertence à sequência de Fibonacci.')\n",
    "except Exception:\n",
    "    print('Por favor insira um número inteiro')"
   ]
  },
  {
   "cell_type": "markdown",
   "metadata": {},
   "source": [
    "### 3) Dado um vetor que guarda o valor de faturamento diário de uma distribuidora, faça um programa, na linguagem que desejar, que calcule e retorne:\n",
    "• O menor valor de faturamento ocorrido em um dia do mês;\n",
    "\n",
    "• O maior valor de faturamento ocorrido em um dia do mês;\n",
    "\n",
    "• Número de dias no mês em que o valor de faturamento diário foi superior à média mensal.\n",
    "\n",
    "IMPORTANTE:\n",
    "\n",
    "a) Usar o json ou xml disponível como fonte dos dados do faturamento mensal;\n",
    "\n",
    "b) Podem existir dias sem faturamento, como nos finais de semana e feriados. Estes dias devem ser ignorados no cálculo da média;"
   ]
  },
  {
   "cell_type": "markdown",
   "metadata": {},
   "source": [
    "#### Resposta: \n",
    "\n",
    "Supunha que temos um arquivo JSON com a seguinte estrutura"
   ]
  },
  {
   "cell_type": "code",
   "execution_count": 63,
   "metadata": {},
   "outputs": [],
   "source": [
    "faturamento = {\n",
    "    \"faturamento\": [\n",
    "        {\"dia\": 1, \"valor\": 100},\n",
    "        {\"dia\": 2, \"valor\": 0},\n",
    "        {\"dia\": 3, \"valor\": 150},\n",
    "        {\"dia\": 4, \"valor\": 200},\n",
    "        {\"dia\": 5, \"valor\": 0},\n",
    "        {\"dia\": 6, \"valor\": 300},\n",
    "        {\"dia\": 7, \"valor\": 250}\n",
    "    ]\n",
    "}\n"
   ]
  },
  {
   "cell_type": "code",
   "execution_count": 64,
   "metadata": {},
   "outputs": [],
   "source": [
    "import json"
   ]
  },
  {
   "cell_type": "code",
   "execution_count": 65,
   "metadata": {},
   "outputs": [],
   "source": [
    "# Salvar o dicionário como um arquivo JSON\n",
    "with open('faturamento.json', 'w') as file:\n",
    "    json.dump(faturamento, file, indent=4)"
   ]
  },
  {
   "cell_type": "code",
   "execution_count": 66,
   "metadata": {},
   "outputs": [],
   "source": [
    "import json\n",
    "\n",
    "def calcular_faturamento(filename):\n",
    "    \"\"\"\n",
    "    Calcula o faturamento com base nos dados contidos em um arquivo JSON.\n",
    "\n",
    "    O arquivo JSON deve conter uma estrutura com uma chave 'faturamento', que é uma lista de dicionários. \n",
    "    Cada dicionário deve ter uma chave 'valor' que representa o valor de faturamento em um determinado período.\n",
    "\n",
    "    Parâmetros:\n",
    "    filename (str): O caminho para o arquivo JSON que contém os dados de faturamento.\n",
    "\n",
    "    Retorna:\n",
    "    tuple: Um tuplo com três valores:\n",
    "        - menor_valor (float): O menor valor de faturamento registrado, ou None se não houver valores positivos.\n",
    "        - maior_valor (float): O maior valor de faturamento registrado, ou None se não houver valores positivos.\n",
    "        - dias_acima_da_media (int): O número de dias em que o faturamento foi superior à média mensal, ou 0 se não houver valores positivos.\n",
    "\n",
    "    Observações:\n",
    "    - Se o arquivo JSON estiver vazio ou se não houver valores de faturamento positivos, a função retornará (None, None, 0).\n",
    "    - A média mensal é calculada como a soma dos valores de faturamento dividida pelo número de dias com faturamento positivo.\n",
    "    \"\"\"\n",
    "    with open(filename, 'r') as file:\n",
    "        data = json.load(file)\n",
    "    \n",
    "    faturamentos = [item['valor'] for item in data['faturamento'] if item['valor'] > 0]\n",
    "    \n",
    "    if not faturamentos:\n",
    "        return None, None, 0\n",
    "    \n",
    "    menor_valor = min(faturamentos)\n",
    "    maior_valor = max(faturamentos)\n",
    "    media_mensal = sum(faturamentos) / len(faturamentos)\n",
    "    dias_acima_da_media = sum(1 for valor in faturamentos if valor > media_mensal)\n",
    "    \n",
    "    return menor_valor, maior_valor, dias_acima_da_media\n"
   ]
  },
  {
   "cell_type": "code",
   "execution_count": 67,
   "metadata": {},
   "outputs": [
    {
     "name": "stdout",
     "output_type": "stream",
     "text": [
      "Menor valor de faturamento: 100\n",
      "Maior valor de faturamento: 300\n",
      "Número de dias com faturamento acima da média: 2\n"
     ]
    }
   ],
   "source": [
    "menor, maior, acima_da_media = calcular_faturamento('faturamento.json')\n",
    "\n",
    "print(f\"Menor valor de faturamento: {menor}\")\n",
    "print(f\"Maior valor de faturamento: {maior}\")\n",
    "print(f\"Número de dias com faturamento acima da média: {acima_da_media}\")"
   ]
  },
  {
   "cell_type": "markdown",
   "metadata": {},
   "source": [
    "### 4) Dado o valor de faturamento mensal de uma distribuidora, detalhado por estado:\n",
    "• SP – R$67.836,43\n",
    "\n",
    "• RJ – R$36.678,66\n",
    "\n",
    "• MG – R$29.229,88\n",
    "\n",
    "• ES – R$27.165,48\n",
    "\n",
    "• Outros – R$19.849,53\n",
    "\n",
    "Escreva um programa na linguagem que desejar onde calcule o percentual de representação que cada estado teve dentro do valor total mensal da distribuidora. "
   ]
  },
  {
   "cell_type": "code",
   "execution_count": 72,
   "metadata": {},
   "outputs": [],
   "source": [
    "estados = {\n",
    "'SP' : 67836.43,\n",
    "'RJ' : 36678.66,\n",
    "'MG' : 29229.88,\n",
    "'ES' : 27165.48,\n",
    "'outros' : 19849.53\n",
    "}"
   ]
  },
  {
   "cell_type": "code",
   "execution_count": 69,
   "metadata": {},
   "outputs": [],
   "source": [
    "total = sum(estados.values())"
   ]
  },
  {
   "cell_type": "code",
   "execution_count": 76,
   "metadata": {},
   "outputs": [
    {
     "name": "stdout",
     "output_type": "stream",
     "text": [
      "SP: 37.53%\n",
      "RJ: 20.29%\n",
      "MG: 16.17%\n",
      "ES: 15.03%\n",
      "outros: 10.98%\n"
     ]
    }
   ],
   "source": [
    "percentuais = {estado: (valor / total) * 100 for estado, valor in estados.items()}\n",
    "\n",
    "# Exibe os resultados formatados com 2 casas decimais\n",
    "for estado, percentual in percentuais.items():\n",
    "    print(f\"{estado}: {percentual:.2f}%\")\n"
   ]
  }
 ],
 "metadata": {
  "kernelspec": {
   "display_name": "Python 3",
   "language": "python",
   "name": "python3"
  },
  "language_info": {
   "codemirror_mode": {
    "name": "ipython",
    "version": 3
   },
   "file_extension": ".py",
   "mimetype": "text/x-python",
   "name": "python",
   "nbconvert_exporter": "python",
   "pygments_lexer": "ipython3",
   "version": "3.12.3"
  }
 },
 "nbformat": 4,
 "nbformat_minor": 2
}
